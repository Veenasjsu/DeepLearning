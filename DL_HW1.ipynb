{
  "cells": [
    {
      "cell_type": "code",
      "execution_count": 31,
      "metadata": {
        "colab": {
          "base_uri": "https://localhost:8080/"
        },
        "id": "NZ5Re0nV7dRw",
        "outputId": "3ab3b1fa-30fe-45ce-cd75-91e99ec77b2c"
      },
      "outputs": [
        {
          "name": "stdout",
          "output_type": "stream",
          "text": [
            "Requirement already satisfied: torch in /system/conda/miniconda3/envs/cloudspace/lib/python3.10/site-packages (2.2.1+cu121)\n",
            "Requirement already satisfied: torchvision in /system/conda/miniconda3/envs/cloudspace/lib/python3.10/site-packages (0.17.1+cu121)\n",
            "Requirement already satisfied: filelock in /system/conda/miniconda3/envs/cloudspace/lib/python3.10/site-packages (from torch) (3.16.1)\n",
            "Requirement already satisfied: typing-extensions>=4.8.0 in /system/conda/miniconda3/envs/cloudspace/lib/python3.10/site-packages (from torch) (4.12.2)\n",
            "Requirement already satisfied: sympy in /system/conda/miniconda3/envs/cloudspace/lib/python3.10/site-packages (from torch) (1.13.3)\n",
            "Requirement already satisfied: networkx in /system/conda/miniconda3/envs/cloudspace/lib/python3.10/site-packages (from torch) (3.4.2)\n",
            "Requirement already satisfied: jinja2 in /system/conda/miniconda3/envs/cloudspace/lib/python3.10/site-packages (from torch) (3.1.4)\n",
            "Requirement already satisfied: fsspec in /system/conda/miniconda3/envs/cloudspace/lib/python3.10/site-packages (from torch) (2024.10.0)\n",
            "Requirement already satisfied: nvidia-cuda-nvrtc-cu12==12.1.105 in /system/conda/miniconda3/envs/cloudspace/lib/python3.10/site-packages (from torch) (12.1.105)\n",
            "Requirement already satisfied: nvidia-cuda-runtime-cu12==12.1.105 in /system/conda/miniconda3/envs/cloudspace/lib/python3.10/site-packages (from torch) (12.1.105)\n",
            "Requirement already satisfied: nvidia-cuda-cupti-cu12==12.1.105 in /system/conda/miniconda3/envs/cloudspace/lib/python3.10/site-packages (from torch) (12.1.105)\n",
            "Requirement already satisfied: nvidia-cudnn-cu12==8.9.2.26 in /system/conda/miniconda3/envs/cloudspace/lib/python3.10/site-packages (from torch) (8.9.2.26)\n",
            "Requirement already satisfied: nvidia-cublas-cu12==12.1.3.1 in /system/conda/miniconda3/envs/cloudspace/lib/python3.10/site-packages (from torch) (12.1.3.1)\n",
            "Requirement already satisfied: nvidia-cufft-cu12==11.0.2.54 in /system/conda/miniconda3/envs/cloudspace/lib/python3.10/site-packages (from torch) (11.0.2.54)\n",
            "Requirement already satisfied: nvidia-curand-cu12==10.3.2.106 in /system/conda/miniconda3/envs/cloudspace/lib/python3.10/site-packages (from torch) (10.3.2.106)\n",
            "Requirement already satisfied: nvidia-cusolver-cu12==11.4.5.107 in /system/conda/miniconda3/envs/cloudspace/lib/python3.10/site-packages (from torch) (11.4.5.107)\n",
            "Requirement already satisfied: nvidia-cusparse-cu12==12.1.0.106 in /system/conda/miniconda3/envs/cloudspace/lib/python3.10/site-packages (from torch) (12.1.0.106)\n",
            "Requirement already satisfied: nvidia-nccl-cu12==2.19.3 in /system/conda/miniconda3/envs/cloudspace/lib/python3.10/site-packages (from torch) (2.19.3)\n",
            "Requirement already satisfied: nvidia-nvtx-cu12==12.1.105 in /system/conda/miniconda3/envs/cloudspace/lib/python3.10/site-packages (from torch) (12.1.105)\n",
            "Requirement already satisfied: triton==2.2.0 in /system/conda/miniconda3/envs/cloudspace/lib/python3.10/site-packages (from torch) (2.2.0)\n",
            "Requirement already satisfied: nvidia-nvjitlink-cu12 in /system/conda/miniconda3/envs/cloudspace/lib/python3.10/site-packages (from nvidia-cusolver-cu12==11.4.5.107->torch) (12.6.77)\n",
            "Requirement already satisfied: numpy in /system/conda/miniconda3/envs/cloudspace/lib/python3.10/site-packages (from torchvision) (1.26.4)\n",
            "Requirement already satisfied: pillow!=8.3.*,>=5.3.0 in /system/conda/miniconda3/envs/cloudspace/lib/python3.10/site-packages (from torchvision) (11.0.0)\n",
            "Requirement already satisfied: MarkupSafe>=2.0 in /system/conda/miniconda3/envs/cloudspace/lib/python3.10/site-packages (from jinja2->torch) (3.0.2)\n",
            "Requirement already satisfied: mpmath<1.4,>=1.1.0 in /system/conda/miniconda3/envs/cloudspace/lib/python3.10/site-packages (from sympy->torch) (1.3.0)\n"
          ]
        }
      ],
      "source": [
        "!pip3 install torch torchvision"
      ]
    },
    {
      "cell_type": "code",
      "execution_count": 32,
      "metadata": {
        "colab": {
          "base_uri": "https://localhost:8080/"
        },
        "id": "UvZRXH2T7oOb",
        "outputId": "338be301-ebe0-4e81-b0d9-44cca05b3fdd"
      },
      "outputs": [
        {
          "name": "stdout",
          "output_type": "stream",
          "text": [
            "Sat Nov  9 07:26:18 2024       \n",
            "+---------------------------------------------------------------------------------------+\n",
            "| NVIDIA-SMI 535.216.01             Driver Version: 535.216.01   CUDA Version: 12.2     |\n",
            "|-----------------------------------------+----------------------+----------------------+\n",
            "| GPU  Name                 Persistence-M | Bus-Id        Disp.A | Volatile Uncorr. ECC |\n",
            "| Fan  Temp   Perf          Pwr:Usage/Cap |         Memory-Usage | GPU-Util  Compute M. |\n",
            "|                                         |                      |               MIG M. |\n",
            "|=========================================+======================+======================|\n",
            "|   0  Tesla T4                       Off | 00000000:00:1E.0 Off |                    0 |\n",
            "| N/A   21C    P8              11W /  70W |      3MiB / 15360MiB |      0%      Default |\n",
            "|                                         |                      |                  N/A |\n",
            "+-----------------------------------------+----------------------+----------------------+\n",
            "                                                                                         \n",
            "+---------------------------------------------------------------------------------------+\n",
            "| Processes:                                                                            |\n",
            "|  GPU   GI   CI        PID   Type   Process name                            GPU Memory |\n",
            "|        ID   ID                                                             Usage      |\n",
            "|=======================================================================================|\n",
            "|  No running processes found                                                           |\n",
            "+---------------------------------------------------------------------------------------+\n"
          ]
        }
      ],
      "source": [
        "!nvidia-smi #check GPU"
      ]
    },
    {
      "cell_type": "code",
      "execution_count": 33,
      "metadata": {
        "colab": {
          "base_uri": "https://localhost:8080/"
        },
        "id": "W2YU8xcZ7wf3",
        "outputId": "cfe2ee59-0f32-4be1-dcc6-cced9c595232"
      },
      "outputs": [
        {
          "name": "stdout",
          "output_type": "stream",
          "text": [
            "Using torch 2.2.1+cu121\n"
          ]
        }
      ],
      "source": [
        "import torch\n",
        "print(\"Using torch\", torch.__version__)"
      ]
    },
    {
      "cell_type": "code",
      "execution_count": 34,
      "metadata": {
        "colab": {
          "base_uri": "https://localhost:8080/"
        },
        "id": "ys_3PSFk73vo",
        "outputId": "7ef0d599-e543-4431-bccb-cbfeaeaeb343"
      },
      "outputs": [
        {
          "name": "stdout",
          "output_type": "stream",
          "text": [
            "0.17.1+cu121\n"
          ]
        }
      ],
      "source": [
        "import torchvision\n",
        "print(torchvision.__version__)"
      ]
    },
    {
      "cell_type": "code",
      "execution_count": 35,
      "metadata": {
        "id": "btB44qNlJaVT"
      },
      "outputs": [],
      "source": [
        "import torchvision.transforms as transforms"
      ]
    },
    {
      "cell_type": "code",
      "execution_count": 36,
      "metadata": {
        "id": "O2zsrb5rni6B"
      },
      "outputs": [],
      "source": [
        "from torch.utils.data import DataLoader, random_split"
      ]
    },
    {
      "cell_type": "code",
      "execution_count": 37,
      "metadata": {
        "id": "petY13o9774L"
      },
      "outputs": [],
      "source": [
        "if torch.cuda.is_available():\n",
        "    device = torch.device('cuda')  # CUDA GPU\n",
        "elif torch.backends.mps.is_available():\n",
        "    device = torch.device('mps') #Apple GPU\n",
        "else:\n",
        "    device = torch.device(\"cpu\")"
      ]
    },
    {
      "cell_type": "code",
      "execution_count": 38,
      "metadata": {
        "colab": {
          "base_uri": "https://localhost:8080/"
        },
        "id": "Jd2SZa5e7_rG",
        "outputId": "0775a224-cee9-4994-8ce5-7e6170820f25"
      },
      "outputs": [
        {
          "name": "stdout",
          "output_type": "stream",
          "text": [
            "Using device: cuda\n",
            "Device name:  Tesla T4\n",
            "Device properties: _CudaDeviceProperties(name='Tesla T4', major=7, minor=5, total_memory=15102MB, multi_processor_count=40)\n",
            "Memory Usage:\n",
            "Allocated: 0.0 GB\n",
            "Cached:    0.0 GB\n"
          ]
        }
      ],
      "source": [
        "print('Using device:', device)\n",
        "#Additional Info when using cuda\n",
        "if device.type == 'cuda':\n",
        "    print(\"Device name: \", torch.cuda.get_device_name(0))\n",
        "    print(\"Device properties:\", torch.cuda.get_device_properties(0))\n",
        "    print('Memory Usage:')\n",
        "    print('Allocated:', round(torch.cuda.memory_allocated(0)/1024**3,1), 'GB')\n",
        "    print('Cached:   ', round(torch.cuda.memory_reserved(0)/1024**3,1), 'GB')"
      ]
    },
    {
      "cell_type": "markdown",
      "metadata": {
        "id": "iuiwgJYB_ocN"
      },
      "source": [
        "#Data Augmentation"
      ]
    },
    {
      "cell_type": "code",
      "execution_count": 39,
      "metadata": {
        "id": "4vsphDlvpmqW"
      },
      "outputs": [],
      "source": [
        "transform = transforms.Compose([\n",
        "    transforms.Grayscale(num_output_channels=3),\n",
        "    transforms.Resize((224, 224)),  # Resize images to 224x224 (or any size you prefer)\n",
        "    transforms.ToTensor(),  # Convert images to PyTorch tensors\n",
        "    transforms.Normalize((0.5, 0.5, 0.5), (0.5, 0.5, 0.5))  # Normalize with mean and std\n",
        "])"
      ]
    },
    {
      "cell_type": "code",
      "execution_count": 40,
      "metadata": {
        "id": "gXPlQXYv8Vhw"
      },
      "outputs": [],
      "source": [
        "from timm.data.mixup import Mixup"
      ]
    },
    {
      "cell_type": "code",
      "execution_count": 41,
      "metadata": {
        "id": "qfMI2CZC8Vhx"
      },
      "outputs": [],
      "source": [
        "mixup_fn = Mixup(\n",
        "    mixup_alpha=0.2,\n",
        "    cutmix_alpha=1.0,\n",
        "    label_smoothing=0.1\n",
        ")"
      ]
    },
    {
      "cell_type": "markdown",
      "metadata": {
        "id": "jO8skGwXfoBt"
      },
      "source": [
        "#Dataset"
      ]
    },
    {
      "cell_type": "code",
      "execution_count": 42,
      "metadata": {
        "colab": {
          "base_uri": "https://localhost:8080/"
        },
        "id": "HpseJRUs8Vhx",
        "outputId": "4261df9f-69ed-4619-953e-025e71edb813"
      },
      "outputs": [
        {
          "name": "stdout",
          "output_type": "stream",
          "text": [
            "Requirement already satisfied: gdown in /system/conda/miniconda3/envs/cloudspace/lib/python3.10/site-packages (5.2.0)\n",
            "Requirement already satisfied: beautifulsoup4 in /system/conda/miniconda3/envs/cloudspace/lib/python3.10/site-packages (from gdown) (4.12.3)\n",
            "Requirement already satisfied: filelock in /system/conda/miniconda3/envs/cloudspace/lib/python3.10/site-packages (from gdown) (3.16.1)\n",
            "Requirement already satisfied: requests[socks] in /system/conda/miniconda3/envs/cloudspace/lib/python3.10/site-packages (from gdown) (2.32.3)\n",
            "Requirement already satisfied: tqdm in /system/conda/miniconda3/envs/cloudspace/lib/python3.10/site-packages (from gdown) (4.66.6)\n",
            "Requirement already satisfied: soupsieve>1.2 in /system/conda/miniconda3/envs/cloudspace/lib/python3.10/site-packages (from beautifulsoup4->gdown) (2.6)\n",
            "Requirement already satisfied: charset-normalizer<4,>=2 in /system/conda/miniconda3/envs/cloudspace/lib/python3.10/site-packages (from requests[socks]->gdown) (3.4.0)\n",
            "Requirement already satisfied: idna<4,>=2.5 in /system/conda/miniconda3/envs/cloudspace/lib/python3.10/site-packages (from requests[socks]->gdown) (3.10)\n",
            "Requirement already satisfied: urllib3<3,>=1.21.1 in /system/conda/miniconda3/envs/cloudspace/lib/python3.10/site-packages (from requests[socks]->gdown) (2.2.3)\n",
            "Requirement already satisfied: certifi>=2017.4.17 in /system/conda/miniconda3/envs/cloudspace/lib/python3.10/site-packages (from requests[socks]->gdown) (2024.8.30)\n",
            "Requirement already satisfied: PySocks!=1.5.7,>=1.5.6 in /system/conda/miniconda3/envs/cloudspace/lib/python3.10/site-packages (from requests[socks]->gdown) (1.7.1)\n"
          ]
        }
      ],
      "source": [
        "!pip install gdown"
      ]
    },
    {
      "cell_type": "code",
      "execution_count": 43,
      "metadata": {
        "colab": {
          "base_uri": "https://localhost:8080/"
        },
        "id": "b0v_djng-Ii-",
        "outputId": "dbf94510-1db2-48ca-cc99-2a6fc16d568d"
      },
      "outputs": [
        {
          "name": "stdout",
          "output_type": "stream",
          "text": [
            "Files already downloaded and verified\n"
          ]
        }
      ],
      "source": [
        "dataset = torchvision.datasets.Caltech256('.',download=True, transform=transform)"
      ]
    },
    {
      "cell_type": "code",
      "execution_count": 44,
      "metadata": {
        "id": "Fh4s-540ncVJ"
      },
      "outputs": [],
      "source": [
        "train_size = int(0.8 * len(dataset))  # 80% for training\n",
        "test_size = len(dataset) - train_size\n",
        "train_dataset, test_dataset = random_split(dataset, [train_size, test_size])"
      ]
    },
    {
      "cell_type": "code",
      "execution_count": 45,
      "metadata": {
        "id": "wxXK9gQmnssl"
      },
      "outputs": [],
      "source": [
        "train_loader = DataLoader(train_dataset, batch_size=32, shuffle=True)\n",
        "test_loader = DataLoader(test_dataset, batch_size=32, shuffle=False)"
      ]
    },
    {
      "cell_type": "code",
      "execution_count": 46,
      "metadata": {
        "colab": {
          "base_uri": "https://localhost:8080/",
          "height": 391
        },
        "id": "TfGq-EOkoWJU",
        "outputId": "51c6eea3-c70e-45ed-fb75-c4c83d553375"
      },
      "outputs": [
        {
          "name": "stdout",
          "output_type": "stream",
          "text": [
            "torch.Size([32, 3, 224, 224])\n",
            "torch.Size([32])\n"
          ]
        }
      ],
      "source": [
        "# Example of iterating through the data loader\n",
        "for images, labels in train_loader:\n",
        "    print(images.shape)  # Should be (batch_size, channels, height, width)\n",
        "    print(labels.shape)  # Should be (batch_size,)\n",
        "    break  # Process a single batch in this example\n"
      ]
    },
    {
      "cell_type": "markdown",
      "metadata": {
        "id": "VYAU74yVsDsb"
      },
      "source": [
        "#Install TIMM"
      ]
    },
    {
      "cell_type": "code",
      "execution_count": 47,
      "metadata": {
        "id": "yw0iAB4wsGDx"
      },
      "outputs": [
        {
          "name": "stdout",
          "output_type": "stream",
          "text": [
            "Requirement already satisfied: timm in /system/conda/miniconda3/envs/cloudspace/lib/python3.10/site-packages (1.0.11)\n",
            "Requirement already satisfied: torch in /system/conda/miniconda3/envs/cloudspace/lib/python3.10/site-packages (from timm) (2.2.1+cu121)\n",
            "Requirement already satisfied: torchvision in /system/conda/miniconda3/envs/cloudspace/lib/python3.10/site-packages (from timm) (0.17.1+cu121)\n",
            "Requirement already satisfied: pyyaml in /system/conda/miniconda3/envs/cloudspace/lib/python3.10/site-packages (from timm) (6.0.2)\n",
            "Requirement already satisfied: huggingface_hub in /system/conda/miniconda3/envs/cloudspace/lib/python3.10/site-packages (from timm) (0.26.2)\n",
            "Requirement already satisfied: safetensors in /system/conda/miniconda3/envs/cloudspace/lib/python3.10/site-packages (from timm) (0.4.5)\n",
            "Requirement already satisfied: filelock in /system/conda/miniconda3/envs/cloudspace/lib/python3.10/site-packages (from huggingface_hub->timm) (3.16.1)\n",
            "Requirement already satisfied: fsspec>=2023.5.0 in /system/conda/miniconda3/envs/cloudspace/lib/python3.10/site-packages (from huggingface_hub->timm) (2024.10.0)\n",
            "Requirement already satisfied: packaging>=20.9 in /system/conda/miniconda3/envs/cloudspace/lib/python3.10/site-packages (from huggingface_hub->timm) (24.1)\n",
            "Requirement already satisfied: requests in /system/conda/miniconda3/envs/cloudspace/lib/python3.10/site-packages (from huggingface_hub->timm) (2.32.3)\n",
            "Requirement already satisfied: tqdm>=4.42.1 in /system/conda/miniconda3/envs/cloudspace/lib/python3.10/site-packages (from huggingface_hub->timm) (4.66.6)\n",
            "Requirement already satisfied: typing-extensions>=3.7.4.3 in /system/conda/miniconda3/envs/cloudspace/lib/python3.10/site-packages (from huggingface_hub->timm) (4.12.2)\n",
            "Requirement already satisfied: sympy in /system/conda/miniconda3/envs/cloudspace/lib/python3.10/site-packages (from torch->timm) (1.13.3)\n",
            "Requirement already satisfied: networkx in /system/conda/miniconda3/envs/cloudspace/lib/python3.10/site-packages (from torch->timm) (3.4.2)\n",
            "Requirement already satisfied: jinja2 in /system/conda/miniconda3/envs/cloudspace/lib/python3.10/site-packages (from torch->timm) (3.1.4)\n",
            "Requirement already satisfied: nvidia-cuda-nvrtc-cu12==12.1.105 in /system/conda/miniconda3/envs/cloudspace/lib/python3.10/site-packages (from torch->timm) (12.1.105)\n",
            "Requirement already satisfied: nvidia-cuda-runtime-cu12==12.1.105 in /system/conda/miniconda3/envs/cloudspace/lib/python3.10/site-packages (from torch->timm) (12.1.105)\n",
            "Requirement already satisfied: nvidia-cuda-cupti-cu12==12.1.105 in /system/conda/miniconda3/envs/cloudspace/lib/python3.10/site-packages (from torch->timm) (12.1.105)\n",
            "Requirement already satisfied: nvidia-cudnn-cu12==8.9.2.26 in /system/conda/miniconda3/envs/cloudspace/lib/python3.10/site-packages (from torch->timm) (8.9.2.26)\n",
            "Requirement already satisfied: nvidia-cublas-cu12==12.1.3.1 in /system/conda/miniconda3/envs/cloudspace/lib/python3.10/site-packages (from torch->timm) (12.1.3.1)\n",
            "Requirement already satisfied: nvidia-cufft-cu12==11.0.2.54 in /system/conda/miniconda3/envs/cloudspace/lib/python3.10/site-packages (from torch->timm) (11.0.2.54)\n",
            "Requirement already satisfied: nvidia-curand-cu12==10.3.2.106 in /system/conda/miniconda3/envs/cloudspace/lib/python3.10/site-packages (from torch->timm) (10.3.2.106)\n",
            "Requirement already satisfied: nvidia-cusolver-cu12==11.4.5.107 in /system/conda/miniconda3/envs/cloudspace/lib/python3.10/site-packages (from torch->timm) (11.4.5.107)\n",
            "Requirement already satisfied: nvidia-cusparse-cu12==12.1.0.106 in /system/conda/miniconda3/envs/cloudspace/lib/python3.10/site-packages (from torch->timm) (12.1.0.106)\n",
            "Requirement already satisfied: nvidia-nccl-cu12==2.19.3 in /system/conda/miniconda3/envs/cloudspace/lib/python3.10/site-packages (from torch->timm) (2.19.3)\n",
            "Requirement already satisfied: nvidia-nvtx-cu12==12.1.105 in /system/conda/miniconda3/envs/cloudspace/lib/python3.10/site-packages (from torch->timm) (12.1.105)\n",
            "Requirement already satisfied: triton==2.2.0 in /system/conda/miniconda3/envs/cloudspace/lib/python3.10/site-packages (from torch->timm) (2.2.0)\n",
            "Requirement already satisfied: nvidia-nvjitlink-cu12 in /system/conda/miniconda3/envs/cloudspace/lib/python3.10/site-packages (from nvidia-cusolver-cu12==11.4.5.107->torch->timm) (12.6.77)\n",
            "Requirement already satisfied: numpy in /system/conda/miniconda3/envs/cloudspace/lib/python3.10/site-packages (from torchvision->timm) (1.26.4)\n",
            "Requirement already satisfied: pillow!=8.3.*,>=5.3.0 in /system/conda/miniconda3/envs/cloudspace/lib/python3.10/site-packages (from torchvision->timm) (11.0.0)\n",
            "Requirement already satisfied: MarkupSafe>=2.0 in /system/conda/miniconda3/envs/cloudspace/lib/python3.10/site-packages (from jinja2->torch->timm) (3.0.2)\n",
            "Requirement already satisfied: charset-normalizer<4,>=2 in /system/conda/miniconda3/envs/cloudspace/lib/python3.10/site-packages (from requests->huggingface_hub->timm) (3.4.0)\n",
            "Requirement already satisfied: idna<4,>=2.5 in /system/conda/miniconda3/envs/cloudspace/lib/python3.10/site-packages (from requests->huggingface_hub->timm) (3.10)\n",
            "Requirement already satisfied: urllib3<3,>=1.21.1 in /system/conda/miniconda3/envs/cloudspace/lib/python3.10/site-packages (from requests->huggingface_hub->timm) (2.2.3)\n",
            "Requirement already satisfied: certifi>=2017.4.17 in /system/conda/miniconda3/envs/cloudspace/lib/python3.10/site-packages (from requests->huggingface_hub->timm) (2024.8.30)\n",
            "Requirement already satisfied: mpmath<1.4,>=1.1.0 in /system/conda/miniconda3/envs/cloudspace/lib/python3.10/site-packages (from sympy->torch->timm) (1.3.0)\n"
          ]
        }
      ],
      "source": [
        "!pip install timm"
      ]
    },
    {
      "cell_type": "code",
      "execution_count": 48,
      "metadata": {
        "id": "sI874NStsN9Z"
      },
      "outputs": [],
      "source": [
        "import timm"
      ]
    },
    {
      "cell_type": "markdown",
      "metadata": {
        "id": "CTb14PQtrzJ1"
      },
      "source": [
        "#Configure model"
      ]
    },
    {
      "cell_type": "code",
      "execution_count": 49,
      "metadata": {
        "id": "DyXUZvKIvwQM"
      },
      "outputs": [],
      "source": [
        "from torch import nn"
      ]
    },
    {
      "cell_type": "code",
      "execution_count": 50,
      "metadata": {
        "id": "C0nXGFiQr2bN"
      },
      "outputs": [],
      "source": [
        "model = timm.create_model('repvgg_a0.rvgg_in1k', pretrained=True, num_classes=257, drop_rate=0.5)"
      ]
    },
    {
      "cell_type": "code",
      "execution_count": 51,
      "metadata": {
        "id": "UEOvY9f2vzvE"
      },
      "outputs": [
        {
          "data": {
            "text/plain": [
              "1280"
            ]
          },
          "execution_count": 51,
          "metadata": {},
          "output_type": "execute_result"
        }
      ],
      "source": [
        "num_in_features = model.get_classifier().in_features; num_in_features"
      ]
    },
    {
      "cell_type": "code",
      "execution_count": 52,
      "metadata": {
        "id": "sRoC0MiCxL1Y"
      },
      "outputs": [],
      "source": [
        "model.fc = nn.Sequential(\n",
        "    nn.BatchNorm1d(num_in_features),\n",
        "    nn.Linear(in_features=num_in_features, out_features=257, bias=False),\n",
        "    nn.ReLU(),\n",
        "    nn.BatchNorm1d(257),\n",
        "    nn.Dropout(0.5),\n",
        "    nn.Linear(in_features=257, out_features=257, bias=False))"
      ]
    },
    {
      "cell_type": "code",
      "execution_count": 53,
      "metadata": {
        "id": "2oD5m_VXxQBF"
      },
      "outputs": [
        {
          "data": {
            "text/plain": [
              "torch.Size([1, 257])"
            ]
          },
          "execution_count": 53,
          "metadata": {},
          "output_type": "execute_result"
        }
      ],
      "source": [
        "model.eval()\n",
        "#model.half().cuda()\n",
        "model(torch.randn(1, 3, 224, 224)).shape"
      ]
    },
    {
      "cell_type": "code",
      "execution_count": 54,
      "metadata": {
        "id": "ffB2tDdTxdan"
      },
      "outputs": [
        {
          "data": {
            "text/plain": [
              "{'url': '',\n",
              " 'hf_hub_id': 'timm/repvgg_a0.rvgg_in1k',\n",
              " 'architecture': 'repvgg_a0',\n",
              " 'tag': 'rvgg_in1k',\n",
              " 'custom_load': False,\n",
              " 'input_size': (3, 224, 224),\n",
              " 'fixed_input_size': False,\n",
              " 'interpolation': 'bilinear',\n",
              " 'crop_pct': 0.875,\n",
              " 'crop_mode': 'center',\n",
              " 'mean': (0.485, 0.456, 0.406),\n",
              " 'std': (0.229, 0.224, 0.225),\n",
              " 'num_classes': 1000,\n",
              " 'pool_size': (7, 7),\n",
              " 'first_conv': ('stem.conv_kxk.conv', 'stem.conv_1x1.conv'),\n",
              " 'classifier': 'head.fc',\n",
              " 'license': 'mit'}"
            ]
          },
          "execution_count": 54,
          "metadata": {},
          "output_type": "execute_result"
        }
      ],
      "source": [
        "model.default_cfg"
      ]
    },
    {
      "cell_type": "markdown",
      "metadata": {
        "id": "-13q7hiD8Vh1"
      },
      "source": [
        "#Optimization"
      ]
    },
    {
      "cell_type": "code",
      "execution_count": 55,
      "metadata": {
        "id": "6HjLp15P3CqG"
      },
      "outputs": [],
      "source": [
        "loss_fn = nn.CrossEntropyLoss()\n",
        "optimizer = torch.optim.AdamW(model.parameters(), lr=0.0001, weight_decay=1e-4)"
      ]
    },
    {
      "cell_type": "markdown",
      "metadata": {
        "id": "t4BYi1Uw8Vh1"
      },
      "source": [
        "#Scheduler"
      ]
    },
    {
      "cell_type": "code",
      "execution_count": 56,
      "metadata": {
        "id": "tjc5VZ9G8Vh1"
      },
      "outputs": [],
      "source": [
        "num_epochs=2\n",
        "num_epoch_repeat = num_epochs/2\n",
        "num_steps_per_epoch = 10"
      ]
    },
    {
      "cell_type": "code",
      "execution_count": 57,
      "metadata": {
        "id": "PZMFwUUA8Vh1"
      },
      "outputs": [],
      "source": [
        "import timm.scheduler"
      ]
    },
    {
      "cell_type": "code",
      "execution_count": 58,
      "metadata": {
        "id": "XuEwPevR8Vh1"
      },
      "outputs": [],
      "source": [
        "scheduler = timm.scheduler.CosineLRScheduler(optimizer,\n",
        "                                            t_initial=num_epoch_repeat*num_steps_per_epoch,\n",
        "                                            lr_min=1e-6,\n",
        "                                            cycle_limit=num_epoch_repeat+1,\n",
        "                                            t_in_epochs=False)\n"
      ]
    },
    {
      "cell_type": "markdown",
      "metadata": {
        "id": "o1lJBewS-Hss"
      },
      "source": [
        "#Inference"
      ]
    },
    {
      "cell_type": "code",
      "execution_count": 59,
      "metadata": {
        "id": "Gm9CCwFm8Vh2"
      },
      "outputs": [],
      "source": [
        "scripted_model = torch.jit.script(model)"
      ]
    },
    {
      "cell_type": "code",
      "execution_count": 60,
      "metadata": {
        "id": "cJj77grh8Vh3"
      },
      "outputs": [
        {
          "data": {
            "text/plain": [
              "RecursiveScriptModule(\n",
              "  original_name=ByobNet\n",
              "  (stem): RecursiveScriptModule(\n",
              "    original_name=RepVggBlock\n",
              "    (conv_kxk): RecursiveScriptModule(\n",
              "      original_name=ConvNormAct\n",
              "      (conv): RecursiveScriptModule(original_name=Conv2d)\n",
              "      (bn): RecursiveScriptModule(\n",
              "        original_name=BatchNormAct2d\n",
              "        (drop): RecursiveScriptModule(original_name=Identity)\n",
              "        (act): RecursiveScriptModule(original_name=Identity)\n",
              "      )\n",
              "    )\n",
              "    (conv_1x1): RecursiveScriptModule(\n",
              "      original_name=ConvNormAct\n",
              "      (conv): RecursiveScriptModule(original_name=Conv2d)\n",
              "      (bn): RecursiveScriptModule(\n",
              "        original_name=BatchNormAct2d\n",
              "        (drop): RecursiveScriptModule(original_name=Identity)\n",
              "        (act): RecursiveScriptModule(original_name=Identity)\n",
              "      )\n",
              "    )\n",
              "    (drop_path): RecursiveScriptModule(original_name=Identity)\n",
              "    (attn): RecursiveScriptModule(original_name=Identity)\n",
              "    (act): RecursiveScriptModule(original_name=ReLU)\n",
              "  )\n",
              "  (stages): RecursiveScriptModule(\n",
              "    original_name=Sequential\n",
              "    (0): RecursiveScriptModule(\n",
              "      original_name=Sequential\n",
              "      (0): RecursiveScriptModule(\n",
              "        original_name=RepVggBlock\n",
              "        (conv_kxk): RecursiveScriptModule(\n",
              "          original_name=ConvNormAct\n",
              "          (conv): RecursiveScriptModule(original_name=Conv2d)\n",
              "          (bn): RecursiveScriptModule(\n",
              "            original_name=BatchNormAct2d\n",
              "            (drop): RecursiveScriptModule(original_name=Identity)\n",
              "            (act): RecursiveScriptModule(original_name=Identity)\n",
              "          )\n",
              "        )\n",
              "        (conv_1x1): RecursiveScriptModule(\n",
              "          original_name=ConvNormAct\n",
              "          (conv): RecursiveScriptModule(original_name=Conv2d)\n",
              "          (bn): RecursiveScriptModule(\n",
              "            original_name=BatchNormAct2d\n",
              "            (drop): RecursiveScriptModule(original_name=Identity)\n",
              "            (act): RecursiveScriptModule(original_name=Identity)\n",
              "          )\n",
              "        )\n",
              "        (drop_path): RecursiveScriptModule(original_name=Identity)\n",
              "        (attn): RecursiveScriptModule(original_name=Identity)\n",
              "        (act): RecursiveScriptModule(original_name=ReLU)\n",
              "      )\n",
              "      (1): RecursiveScriptModule(\n",
              "        original_name=RepVggBlock\n",
              "        (identity): RecursiveScriptModule(\n",
              "          original_name=BatchNormAct2d\n",
              "          (drop): RecursiveScriptModule(original_name=Identity)\n",
              "          (act): RecursiveScriptModule(original_name=Identity)\n",
              "        )\n",
              "        (conv_kxk): RecursiveScriptModule(\n",
              "          original_name=ConvNormAct\n",
              "          (conv): RecursiveScriptModule(original_name=Conv2d)\n",
              "          (bn): RecursiveScriptModule(\n",
              "            original_name=BatchNormAct2d\n",
              "            (drop): RecursiveScriptModule(original_name=Identity)\n",
              "            (act): RecursiveScriptModule(original_name=Identity)\n",
              "          )\n",
              "        )\n",
              "        (conv_1x1): RecursiveScriptModule(\n",
              "          original_name=ConvNormAct\n",
              "          (conv): RecursiveScriptModule(original_name=Conv2d)\n",
              "          (bn): RecursiveScriptModule(\n",
              "            original_name=BatchNormAct2d\n",
              "            (drop): RecursiveScriptModule(original_name=Identity)\n",
              "            (act): RecursiveScriptModule(original_name=Identity)\n",
              "          )\n",
              "        )\n",
              "        (drop_path): RecursiveScriptModule(original_name=Identity)\n",
              "        (attn): RecursiveScriptModule(original_name=Identity)\n",
              "        (act): RecursiveScriptModule(original_name=ReLU)\n",
              "      )\n",
              "    )\n",
              "    (1): RecursiveScriptModule(\n",
              "      original_name=Sequential\n",
              "      (0): RecursiveScriptModule(\n",
              "        original_name=RepVggBlock\n",
              "        (conv_kxk): RecursiveScriptModule(\n",
              "          original_name=ConvNormAct\n",
              "          (conv): RecursiveScriptModule(original_name=Conv2d)\n",
              "          (bn): RecursiveScriptModule(\n",
              "            original_name=BatchNormAct2d\n",
              "            (drop): RecursiveScriptModule(original_name=Identity)\n",
              "            (act): RecursiveScriptModule(original_name=Identity)\n",
              "          )\n",
              "        )\n",
              "        (conv_1x1): RecursiveScriptModule(\n",
              "          original_name=ConvNormAct\n",
              "          (conv): RecursiveScriptModule(original_name=Conv2d)\n",
              "          (bn): RecursiveScriptModule(\n",
              "            original_name=BatchNormAct2d\n",
              "            (drop): RecursiveScriptModule(original_name=Identity)\n",
              "            (act): RecursiveScriptModule(original_name=Identity)\n",
              "          )\n",
              "        )\n",
              "        (drop_path): RecursiveScriptModule(original_name=Identity)\n",
              "        (attn): RecursiveScriptModule(original_name=Identity)\n",
              "        (act): RecursiveScriptModule(original_name=ReLU)\n",
              "      )\n",
              "      (1): RecursiveScriptModule(\n",
              "        original_name=RepVggBlock\n",
              "        (identity): RecursiveScriptModule(\n",
              "          original_name=BatchNormAct2d\n",
              "          (drop): RecursiveScriptModule(original_name=Identity)\n",
              "          (act): RecursiveScriptModule(original_name=Identity)\n",
              "        )\n",
              "        (conv_kxk): RecursiveScriptModule(\n",
              "          original_name=ConvNormAct\n",
              "          (conv): RecursiveScriptModule(original_name=Conv2d)\n",
              "          (bn): RecursiveScriptModule(\n",
              "            original_name=BatchNormAct2d\n",
              "            (drop): RecursiveScriptModule(original_name=Identity)\n",
              "            (act): RecursiveScriptModule(original_name=Identity)\n",
              "          )\n",
              "        )\n",
              "        (conv_1x1): RecursiveScriptModule(\n",
              "          original_name=ConvNormAct\n",
              "          (conv): RecursiveScriptModule(original_name=Conv2d)\n",
              "          (bn): RecursiveScriptModule(\n",
              "            original_name=BatchNormAct2d\n",
              "            (drop): RecursiveScriptModule(original_name=Identity)\n",
              "            (act): RecursiveScriptModule(original_name=Identity)\n",
              "          )\n",
              "        )\n",
              "        (drop_path): RecursiveScriptModule(original_name=Identity)\n",
              "        (attn): RecursiveScriptModule(original_name=Identity)\n",
              "        (act): RecursiveScriptModule(original_name=ReLU)\n",
              "      )\n",
              "      (2): RecursiveScriptModule(\n",
              "        original_name=RepVggBlock\n",
              "        (identity): RecursiveScriptModule(\n",
              "          original_name=BatchNormAct2d\n",
              "          (drop): RecursiveScriptModule(original_name=Identity)\n",
              "          (act): RecursiveScriptModule(original_name=Identity)\n",
              "        )\n",
              "        (conv_kxk): RecursiveScriptModule(\n",
              "          original_name=ConvNormAct\n",
              "          (conv): RecursiveScriptModule(original_name=Conv2d)\n",
              "          (bn): RecursiveScriptModule(\n",
              "            original_name=BatchNormAct2d\n",
              "            (drop): RecursiveScriptModule(original_name=Identity)\n",
              "            (act): RecursiveScriptModule(original_name=Identity)\n",
              "          )\n",
              "        )\n",
              "        (conv_1x1): RecursiveScriptModule(\n",
              "          original_name=ConvNormAct\n",
              "          (conv): RecursiveScriptModule(original_name=Conv2d)\n",
              "          (bn): RecursiveScriptModule(\n",
              "            original_name=BatchNormAct2d\n",
              "            (drop): RecursiveScriptModule(original_name=Identity)\n",
              "            (act): RecursiveScriptModule(original_name=Identity)\n",
              "          )\n",
              "        )\n",
              "        (drop_path): RecursiveScriptModule(original_name=Identity)\n",
              "        (attn): RecursiveScriptModule(original_name=Identity)\n",
              "        (act): RecursiveScriptModule(original_name=ReLU)\n",
              "      )\n",
              "      (3): RecursiveScriptModule(\n",
              "        original_name=RepVggBlock\n",
              "        (identity): RecursiveScriptModule(\n",
              "          original_name=BatchNormAct2d\n",
              "          (drop): RecursiveScriptModule(original_name=Identity)\n",
              "          (act): RecursiveScriptModule(original_name=Identity)\n",
              "        )\n",
              "        (conv_kxk): RecursiveScriptModule(\n",
              "          original_name=ConvNormAct\n",
              "          (conv): RecursiveScriptModule(original_name=Conv2d)\n",
              "          (bn): RecursiveScriptModule(\n",
              "            original_name=BatchNormAct2d\n",
              "            (drop): RecursiveScriptModule(original_name=Identity)\n",
              "            (act): RecursiveScriptModule(original_name=Identity)\n",
              "          )\n",
              "        )\n",
              "        (conv_1x1): RecursiveScriptModule(\n",
              "          original_name=ConvNormAct\n",
              "          (conv): RecursiveScriptModule(original_name=Conv2d)\n",
              "          (bn): RecursiveScriptModule(\n",
              "            original_name=BatchNormAct2d\n",
              "            (drop): RecursiveScriptModule(original_name=Identity)\n",
              "            (act): RecursiveScriptModule(original_name=Identity)\n",
              "          )\n",
              "        )\n",
              "        (drop_path): RecursiveScriptModule(original_name=Identity)\n",
              "        (attn): RecursiveScriptModule(original_name=Identity)\n",
              "        (act): RecursiveScriptModule(original_name=ReLU)\n",
              "      )\n",
              "    )\n",
              "    (2): RecursiveScriptModule(\n",
              "      original_name=Sequential\n",
              "      (0): RecursiveScriptModule(\n",
              "        original_name=RepVggBlock\n",
              "        (conv_kxk): RecursiveScriptModule(\n",
              "          original_name=ConvNormAct\n",
              "          (conv): RecursiveScriptModule(original_name=Conv2d)\n",
              "          (bn): RecursiveScriptModule(\n",
              "            original_name=BatchNormAct2d\n",
              "            (drop): RecursiveScriptModule(original_name=Identity)\n",
              "            (act): RecursiveScriptModule(original_name=Identity)\n",
              "          )\n",
              "        )\n",
              "        (conv_1x1): RecursiveScriptModule(\n",
              "          original_name=ConvNormAct\n",
              "          (conv): RecursiveScriptModule(original_name=Conv2d)\n",
              "          (bn): RecursiveScriptModule(\n",
              "            original_name=BatchNormAct2d\n",
              "            (drop): RecursiveScriptModule(original_name=Identity)\n",
              "            (act): RecursiveScriptModule(original_name=Identity)\n",
              "          )\n",
              "        )\n",
              "        (drop_path): RecursiveScriptModule(original_name=Identity)\n",
              "        (attn): RecursiveScriptModule(original_name=Identity)\n",
              "        (act): RecursiveScriptModule(original_name=ReLU)\n",
              "      )\n",
              "      (1): RecursiveScriptModule(\n",
              "        original_name=RepVggBlock\n",
              "        (identity): RecursiveScriptModule(\n",
              "          original_name=BatchNormAct2d\n",
              "          (drop): RecursiveScriptModule(original_name=Identity)\n",
              "          (act): RecursiveScriptModule(original_name=Identity)\n",
              "        )\n",
              "        (conv_kxk): RecursiveScriptModule(\n",
              "          original_name=ConvNormAct\n",
              "          (conv): RecursiveScriptModule(original_name=Conv2d)\n",
              "          (bn): RecursiveScriptModule(\n",
              "            original_name=BatchNormAct2d\n",
              "            (drop): RecursiveScriptModule(original_name=Identity)\n",
              "            (act): RecursiveScriptModule(original_name=Identity)\n",
              "          )\n",
              "        )\n",
              "        (conv_1x1): RecursiveScriptModule(\n",
              "          original_name=ConvNormAct\n",
              "          (conv): RecursiveScriptModule(original_name=Conv2d)\n",
              "          (bn): RecursiveScriptModule(\n",
              "            original_name=BatchNormAct2d\n",
              "            (drop): RecursiveScriptModule(original_name=Identity)\n",
              "            (act): RecursiveScriptModule(original_name=Identity)\n",
              "          )\n",
              "        )\n",
              "        (drop_path): RecursiveScriptModule(original_name=Identity)\n",
              "        (attn): RecursiveScriptModule(original_name=Identity)\n",
              "        (act): RecursiveScriptModule(original_name=ReLU)\n",
              "      )\n",
              "      (2): RecursiveScriptModule(\n",
              "        original_name=RepVggBlock\n",
              "        (identity): RecursiveScriptModule(\n",
              "          original_name=BatchNormAct2d\n",
              "          (drop): RecursiveScriptModule(original_name=Identity)\n",
              "          (act): RecursiveScriptModule(original_name=Identity)\n",
              "        )\n",
              "        (conv_kxk): RecursiveScriptModule(\n",
              "          original_name=ConvNormAct\n",
              "          (conv): RecursiveScriptModule(original_name=Conv2d)\n",
              "          (bn): RecursiveScriptModule(\n",
              "            original_name=BatchNormAct2d\n",
              "            (drop): RecursiveScriptModule(original_name=Identity)\n",
              "            (act): RecursiveScriptModule(original_name=Identity)\n",
              "          )\n",
              "        )\n",
              "        (conv_1x1): RecursiveScriptModule(\n",
              "          original_name=ConvNormAct\n",
              "          (conv): RecursiveScriptModule(original_name=Conv2d)\n",
              "          (bn): RecursiveScriptModule(\n",
              "            original_name=BatchNormAct2d\n",
              "            (drop): RecursiveScriptModule(original_name=Identity)\n",
              "            (act): RecursiveScriptModule(original_name=Identity)\n",
              "          )\n",
              "        )\n",
              "        (drop_path): RecursiveScriptModule(original_name=Identity)\n",
              "        (attn): RecursiveScriptModule(original_name=Identity)\n",
              "        (act): RecursiveScriptModule(original_name=ReLU)\n",
              "      )\n",
              "      (3): RecursiveScriptModule(\n",
              "        original_name=RepVggBlock\n",
              "        (identity): RecursiveScriptModule(\n",
              "          original_name=BatchNormAct2d\n",
              "          (drop): RecursiveScriptModule(original_name=Identity)\n",
              "          (act): RecursiveScriptModule(original_name=Identity)\n",
              "        )\n",
              "        (conv_kxk): RecursiveScriptModule(\n",
              "          original_name=ConvNormAct\n",
              "          (conv): RecursiveScriptModule(original_name=Conv2d)\n",
              "          (bn): RecursiveScriptModule(\n",
              "            original_name=BatchNormAct2d\n",
              "            (drop): RecursiveScriptModule(original_name=Identity)\n",
              "            (act): RecursiveScriptModule(original_name=Identity)\n",
              "          )\n",
              "        )\n",
              "        (conv_1x1): RecursiveScriptModule(\n",
              "          original_name=ConvNormAct\n",
              "          (conv): RecursiveScriptModule(original_name=Conv2d)\n",
              "          (bn): RecursiveScriptModule(\n",
              "            original_name=BatchNormAct2d\n",
              "            (drop): RecursiveScriptModule(original_name=Identity)\n",
              "            (act): RecursiveScriptModule(original_name=Identity)\n",
              "          )\n",
              "        )\n",
              "        (drop_path): RecursiveScriptModule(original_name=Identity)\n",
              "        (attn): RecursiveScriptModule(original_name=Identity)\n",
              "        (act): RecursiveScriptModule(original_name=ReLU)\n",
              "      )\n",
              "      (4): RecursiveScriptModule(\n",
              "        original_name=RepVggBlock\n",
              "        (identity): RecursiveScriptModule(\n",
              "          original_name=BatchNormAct2d\n",
              "          (drop): RecursiveScriptModule(original_name=Identity)\n",
              "          (act): RecursiveScriptModule(original_name=Identity)\n",
              "        )\n",
              "        (conv_kxk): RecursiveScriptModule(\n",
              "          original_name=ConvNormAct\n",
              "          (conv): RecursiveScriptModule(original_name=Conv2d)\n",
              "          (bn): RecursiveScriptModule(\n",
              "            original_name=BatchNormAct2d\n",
              "            (drop): RecursiveScriptModule(original_name=Identity)\n",
              "            (act): RecursiveScriptModule(original_name=Identity)\n",
              "          )\n",
              "        )\n",
              "        (conv_1x1): RecursiveScriptModule(\n",
              "          original_name=ConvNormAct\n",
              "          (conv): RecursiveScriptModule(original_name=Conv2d)\n",
              "          (bn): RecursiveScriptModule(\n",
              "            original_name=BatchNormAct2d\n",
              "            (drop): RecursiveScriptModule(original_name=Identity)\n",
              "            (act): RecursiveScriptModule(original_name=Identity)\n",
              "          )\n",
              "        )\n",
              "        (drop_path): RecursiveScriptModule(original_name=Identity)\n",
              "        (attn): RecursiveScriptModule(original_name=Identity)\n",
              "        (act): RecursiveScriptModule(original_name=ReLU)\n",
              "      )\n",
              "      (5): RecursiveScriptModule(\n",
              "        original_name=RepVggBlock\n",
              "        (identity): RecursiveScriptModule(\n",
              "          original_name=BatchNormAct2d\n",
              "          (drop): RecursiveScriptModule(original_name=Identity)\n",
              "          (act): RecursiveScriptModule(original_name=Identity)\n",
              "        )\n",
              "        (conv_kxk): RecursiveScriptModule(\n",
              "          original_name=ConvNormAct\n",
              "          (conv): RecursiveScriptModule(original_name=Conv2d)\n",
              "          (bn): RecursiveScriptModule(\n",
              "            original_name=BatchNormAct2d\n",
              "            (drop): RecursiveScriptModule(original_name=Identity)\n",
              "            (act): RecursiveScriptModule(original_name=Identity)\n",
              "          )\n",
              "        )\n",
              "        (conv_1x1): RecursiveScriptModule(\n",
              "          original_name=ConvNormAct\n",
              "          (conv): RecursiveScriptModule(original_name=Conv2d)\n",
              "          (bn): RecursiveScriptModule(\n",
              "            original_name=BatchNormAct2d\n",
              "            (drop): RecursiveScriptModule(original_name=Identity)\n",
              "            (act): RecursiveScriptModule(original_name=Identity)\n",
              "          )\n",
              "        )\n",
              "        (drop_path): RecursiveScriptModule(original_name=Identity)\n",
              "        (attn): RecursiveScriptModule(original_name=Identity)\n",
              "        (act): RecursiveScriptModule(original_name=ReLU)\n",
              "      )\n",
              "      (6): RecursiveScriptModule(\n",
              "        original_name=RepVggBlock\n",
              "        (identity): RecursiveScriptModule(\n",
              "          original_name=BatchNormAct2d\n",
              "          (drop): RecursiveScriptModule(original_name=Identity)\n",
              "          (act): RecursiveScriptModule(original_name=Identity)\n",
              "        )\n",
              "        (conv_kxk): RecursiveScriptModule(\n",
              "          original_name=ConvNormAct\n",
              "          (conv): RecursiveScriptModule(original_name=Conv2d)\n",
              "          (bn): RecursiveScriptModule(\n",
              "            original_name=BatchNormAct2d\n",
              "            (drop): RecursiveScriptModule(original_name=Identity)\n",
              "            (act): RecursiveScriptModule(original_name=Identity)\n",
              "          )\n",
              "        )\n",
              "        (conv_1x1): RecursiveScriptModule(\n",
              "          original_name=ConvNormAct\n",
              "          (conv): RecursiveScriptModule(original_name=Conv2d)\n",
              "          (bn): RecursiveScriptModule(\n",
              "            original_name=BatchNormAct2d\n",
              "            (drop): RecursiveScriptModule(original_name=Identity)\n",
              "            (act): RecursiveScriptModule(original_name=Identity)\n",
              "          )\n",
              "        )\n",
              "        (drop_path): RecursiveScriptModule(original_name=Identity)\n",
              "        (attn): RecursiveScriptModule(original_name=Identity)\n",
              "        (act): RecursiveScriptModule(original_name=ReLU)\n",
              "      )\n",
              "      (7): RecursiveScriptModule(\n",
              "        original_name=RepVggBlock\n",
              "        (identity): RecursiveScriptModule(\n",
              "          original_name=BatchNormAct2d\n",
              "          (drop): RecursiveScriptModule(original_name=Identity)\n",
              "          (act): RecursiveScriptModule(original_name=Identity)\n",
              "        )\n",
              "        (conv_kxk): RecursiveScriptModule(\n",
              "          original_name=ConvNormAct\n",
              "          (conv): RecursiveScriptModule(original_name=Conv2d)\n",
              "          (bn): RecursiveScriptModule(\n",
              "            original_name=BatchNormAct2d\n",
              "            (drop): RecursiveScriptModule(original_name=Identity)\n",
              "            (act): RecursiveScriptModule(original_name=Identity)\n",
              "          )\n",
              "        )\n",
              "        (conv_1x1): RecursiveScriptModule(\n",
              "          original_name=ConvNormAct\n",
              "          (conv): RecursiveScriptModule(original_name=Conv2d)\n",
              "          (bn): RecursiveScriptModule(\n",
              "            original_name=BatchNormAct2d\n",
              "            (drop): RecursiveScriptModule(original_name=Identity)\n",
              "            (act): RecursiveScriptModule(original_name=Identity)\n",
              "          )\n",
              "        )\n",
              "        (drop_path): RecursiveScriptModule(original_name=Identity)\n",
              "        (attn): RecursiveScriptModule(original_name=Identity)\n",
              "        (act): RecursiveScriptModule(original_name=ReLU)\n",
              "      )\n",
              "      (8): RecursiveScriptModule(\n",
              "        original_name=RepVggBlock\n",
              "        (identity): RecursiveScriptModule(\n",
              "          original_name=BatchNormAct2d\n",
              "          (drop): RecursiveScriptModule(original_name=Identity)\n",
              "          (act): RecursiveScriptModule(original_name=Identity)\n",
              "        )\n",
              "        (conv_kxk): RecursiveScriptModule(\n",
              "          original_name=ConvNormAct\n",
              "          (conv): RecursiveScriptModule(original_name=Conv2d)\n",
              "          (bn): RecursiveScriptModule(\n",
              "            original_name=BatchNormAct2d\n",
              "            (drop): RecursiveScriptModule(original_name=Identity)\n",
              "            (act): RecursiveScriptModule(original_name=Identity)\n",
              "          )\n",
              "        )\n",
              "        (conv_1x1): RecursiveScriptModule(\n",
              "          original_name=ConvNormAct\n",
              "          (conv): RecursiveScriptModule(original_name=Conv2d)\n",
              "          (bn): RecursiveScriptModule(\n",
              "            original_name=BatchNormAct2d\n",
              "            (drop): RecursiveScriptModule(original_name=Identity)\n",
              "            (act): RecursiveScriptModule(original_name=Identity)\n",
              "          )\n",
              "        )\n",
              "        (drop_path): RecursiveScriptModule(original_name=Identity)\n",
              "        (attn): RecursiveScriptModule(original_name=Identity)\n",
              "        (act): RecursiveScriptModule(original_name=ReLU)\n",
              "      )\n",
              "      (9): RecursiveScriptModule(\n",
              "        original_name=RepVggBlock\n",
              "        (identity): RecursiveScriptModule(\n",
              "          original_name=BatchNormAct2d\n",
              "          (drop): RecursiveScriptModule(original_name=Identity)\n",
              "          (act): RecursiveScriptModule(original_name=Identity)\n",
              "        )\n",
              "        (conv_kxk): RecursiveScriptModule(\n",
              "          original_name=ConvNormAct\n",
              "          (conv): RecursiveScriptModule(original_name=Conv2d)\n",
              "          (bn): RecursiveScriptModule(\n",
              "            original_name=BatchNormAct2d\n",
              "            (drop): RecursiveScriptModule(original_name=Identity)\n",
              "            (act): RecursiveScriptModule(original_name=Identity)\n",
              "          )\n",
              "        )\n",
              "        (conv_1x1): RecursiveScriptModule(\n",
              "          original_name=ConvNormAct\n",
              "          (conv): RecursiveScriptModule(original_name=Conv2d)\n",
              "          (bn): RecursiveScriptModule(\n",
              "            original_name=BatchNormAct2d\n",
              "            (drop): RecursiveScriptModule(original_name=Identity)\n",
              "            (act): RecursiveScriptModule(original_name=Identity)\n",
              "          )\n",
              "        )\n",
              "        (drop_path): RecursiveScriptModule(original_name=Identity)\n",
              "        (attn): RecursiveScriptModule(original_name=Identity)\n",
              "        (act): RecursiveScriptModule(original_name=ReLU)\n",
              "      )\n",
              "      (10): RecursiveScriptModule(\n",
              "        original_name=RepVggBlock\n",
              "        (identity): RecursiveScriptModule(\n",
              "          original_name=BatchNormAct2d\n",
              "          (drop): RecursiveScriptModule(original_name=Identity)\n",
              "          (act): RecursiveScriptModule(original_name=Identity)\n",
              "        )\n",
              "        (conv_kxk): RecursiveScriptModule(\n",
              "          original_name=ConvNormAct\n",
              "          (conv): RecursiveScriptModule(original_name=Conv2d)\n",
              "          (bn): RecursiveScriptModule(\n",
              "            original_name=BatchNormAct2d\n",
              "            (drop): RecursiveScriptModule(original_name=Identity)\n",
              "            (act): RecursiveScriptModule(original_name=Identity)\n",
              "          )\n",
              "        )\n",
              "        (conv_1x1): RecursiveScriptModule(\n",
              "          original_name=ConvNormAct\n",
              "          (conv): RecursiveScriptModule(original_name=Conv2d)\n",
              "          (bn): RecursiveScriptModule(\n",
              "            original_name=BatchNormAct2d\n",
              "            (drop): RecursiveScriptModule(original_name=Identity)\n",
              "            (act): RecursiveScriptModule(original_name=Identity)\n",
              "          )\n",
              "        )\n",
              "        (drop_path): RecursiveScriptModule(original_name=Identity)\n",
              "        (attn): RecursiveScriptModule(original_name=Identity)\n",
              "        (act): RecursiveScriptModule(original_name=ReLU)\n",
              "      )\n",
              "      (11): RecursiveScriptModule(\n",
              "        original_name=RepVggBlock\n",
              "        (identity): RecursiveScriptModule(\n",
              "          original_name=BatchNormAct2d\n",
              "          (drop): RecursiveScriptModule(original_name=Identity)\n",
              "          (act): RecursiveScriptModule(original_name=Identity)\n",
              "        )\n",
              "        (conv_kxk): RecursiveScriptModule(\n",
              "          original_name=ConvNormAct\n",
              "          (conv): RecursiveScriptModule(original_name=Conv2d)\n",
              "          (bn): RecursiveScriptModule(\n",
              "            original_name=BatchNormAct2d\n",
              "            (drop): RecursiveScriptModule(original_name=Identity)\n",
              "            (act): RecursiveScriptModule(original_name=Identity)\n",
              "          )\n",
              "        )\n",
              "        (conv_1x1): RecursiveScriptModule(\n",
              "          original_name=ConvNormAct\n",
              "          (conv): RecursiveScriptModule(original_name=Conv2d)\n",
              "          (bn): RecursiveScriptModule(\n",
              "            original_name=BatchNormAct2d\n",
              "            (drop): RecursiveScriptModule(original_name=Identity)\n",
              "            (act): RecursiveScriptModule(original_name=Identity)\n",
              "          )\n",
              "        )\n",
              "        (drop_path): RecursiveScriptModule(original_name=Identity)\n",
              "        (attn): RecursiveScriptModule(original_name=Identity)\n",
              "        (act): RecursiveScriptModule(original_name=ReLU)\n",
              "      )\n",
              "      (12): RecursiveScriptModule(\n",
              "        original_name=RepVggBlock\n",
              "        (identity): RecursiveScriptModule(\n",
              "          original_name=BatchNormAct2d\n",
              "          (drop): RecursiveScriptModule(original_name=Identity)\n",
              "          (act): RecursiveScriptModule(original_name=Identity)\n",
              "        )\n",
              "        (conv_kxk): RecursiveScriptModule(\n",
              "          original_name=ConvNormAct\n",
              "          (conv): RecursiveScriptModule(original_name=Conv2d)\n",
              "          (bn): RecursiveScriptModule(\n",
              "            original_name=BatchNormAct2d\n",
              "            (drop): RecursiveScriptModule(original_name=Identity)\n",
              "            (act): RecursiveScriptModule(original_name=Identity)\n",
              "          )\n",
              "        )\n",
              "        (conv_1x1): RecursiveScriptModule(\n",
              "          original_name=ConvNormAct\n",
              "          (conv): RecursiveScriptModule(original_name=Conv2d)\n",
              "          (bn): RecursiveScriptModule(\n",
              "            original_name=BatchNormAct2d\n",
              "            (drop): RecursiveScriptModule(original_name=Identity)\n",
              "            (act): RecursiveScriptModule(original_name=Identity)\n",
              "          )\n",
              "        )\n",
              "        (drop_path): RecursiveScriptModule(original_name=Identity)\n",
              "        (attn): RecursiveScriptModule(original_name=Identity)\n",
              "        (act): RecursiveScriptModule(original_name=ReLU)\n",
              "      )\n",
              "      (13): RecursiveScriptModule(\n",
              "        original_name=RepVggBlock\n",
              "        (identity): RecursiveScriptModule(\n",
              "          original_name=BatchNormAct2d\n",
              "          (drop): RecursiveScriptModule(original_name=Identity)\n",
              "          (act): RecursiveScriptModule(original_name=Identity)\n",
              "        )\n",
              "        (conv_kxk): RecursiveScriptModule(\n",
              "          original_name=ConvNormAct\n",
              "          (conv): RecursiveScriptModule(original_name=Conv2d)\n",
              "          (bn): RecursiveScriptModule(\n",
              "            original_name=BatchNormAct2d\n",
              "            (drop): RecursiveScriptModule(original_name=Identity)\n",
              "            (act): RecursiveScriptModule(original_name=Identity)\n",
              "          )\n",
              "        )\n",
              "        (conv_1x1): RecursiveScriptModule(\n",
              "          original_name=ConvNormAct\n",
              "          (conv): RecursiveScriptModule(original_name=Conv2d)\n",
              "          (bn): RecursiveScriptModule(\n",
              "            original_name=BatchNormAct2d\n",
              "            (drop): RecursiveScriptModule(original_name=Identity)\n",
              "            (act): RecursiveScriptModule(original_name=Identity)\n",
              "          )\n",
              "        )\n",
              "        (drop_path): RecursiveScriptModule(original_name=Identity)\n",
              "        (attn): RecursiveScriptModule(original_name=Identity)\n",
              "        (act): RecursiveScriptModule(original_name=ReLU)\n",
              "      )\n",
              "    )\n",
              "    (3): RecursiveScriptModule(\n",
              "      original_name=Sequential\n",
              "      (0): RecursiveScriptModule(\n",
              "        original_name=RepVggBlock\n",
              "        (conv_kxk): RecursiveScriptModule(\n",
              "          original_name=ConvNormAct\n",
              "          (conv): RecursiveScriptModule(original_name=Conv2d)\n",
              "          (bn): RecursiveScriptModule(\n",
              "            original_name=BatchNormAct2d\n",
              "            (drop): RecursiveScriptModule(original_name=Identity)\n",
              "            (act): RecursiveScriptModule(original_name=Identity)\n",
              "          )\n",
              "        )\n",
              "        (conv_1x1): RecursiveScriptModule(\n",
              "          original_name=ConvNormAct\n",
              "          (conv): RecursiveScriptModule(original_name=Conv2d)\n",
              "          (bn): RecursiveScriptModule(\n",
              "            original_name=BatchNormAct2d\n",
              "            (drop): RecursiveScriptModule(original_name=Identity)\n",
              "            (act): RecursiveScriptModule(original_name=Identity)\n",
              "          )\n",
              "        )\n",
              "        (drop_path): RecursiveScriptModule(original_name=Identity)\n",
              "        (attn): RecursiveScriptModule(original_name=Identity)\n",
              "        (act): RecursiveScriptModule(original_name=ReLU)\n",
              "      )\n",
              "    )\n",
              "  )\n",
              "  (final_conv): RecursiveScriptModule(original_name=Identity)\n",
              "  (head): RecursiveScriptModule(\n",
              "    original_name=ClassifierHead\n",
              "    (global_pool): RecursiveScriptModule(\n",
              "      original_name=SelectAdaptivePool2d\n",
              "      (pool): RecursiveScriptModule(original_name=AdaptiveAvgPool2d)\n",
              "      (flatten): RecursiveScriptModule(original_name=Flatten)\n",
              "    )\n",
              "    (drop): RecursiveScriptModule(original_name=Dropout)\n",
              "    (fc): RecursiveScriptModule(original_name=Linear)\n",
              "    (flatten): RecursiveScriptModule(original_name=Identity)\n",
              "  )\n",
              "  (fc): RecursiveScriptModule(\n",
              "    original_name=Sequential\n",
              "    (0): RecursiveScriptModule(original_name=BatchNorm1d)\n",
              "    (1): RecursiveScriptModule(original_name=Linear)\n",
              "    (2): RecursiveScriptModule(original_name=ReLU)\n",
              "    (3): RecursiveScriptModule(original_name=BatchNorm1d)\n",
              "    (4): RecursiveScriptModule(original_name=Dropout)\n",
              "    (5): RecursiveScriptModule(original_name=Linear)\n",
              "  )\n",
              ")"
            ]
          },
          "execution_count": 60,
          "metadata": {},
          "output_type": "execute_result"
        }
      ],
      "source": [
        "scripted_model"
      ]
    },
    {
      "cell_type": "code",
      "execution_count": 61,
      "metadata": {
        "id": "soNNbHdR8Vh8"
      },
      "outputs": [],
      "source": [
        "scripted_model.save(\"scripted_vgg.pt\")"
      ]
    },
    {
      "cell_type": "markdown",
      "metadata": {
        "id": "8rtIJHws8Vh1"
      },
      "source": [
        "#Train and test"
      ]
    },
    {
      "cell_type": "code",
      "execution_count": 62,
      "metadata": {
        "id": "chQYPUX53F4i"
      },
      "outputs": [],
      "source": [
        "from tqdm.auto import tqdm\n",
        "from typing import Dict, List, Tuple\n",
        "\n",
        "def train_step(model: scripted_model,\n",
        "               dataloader: torch.utils.data.DataLoader,\n",
        "               loss_fn: torch.nn.Module,\n",
        "               optimizer: torch.optim.Optimizer,\n",
        "               device: torch.device,\n",
        "               mixup_fn: Mixup = None) -> Tuple[float, float]:\n",
        "\n",
        "    # Put model in train mode\n",
        "    model.train()\n",
        "\n",
        "    # Setup train loss and train accuracy values\n",
        "    train_loss, train_acc = 0, 0\n",
        "\n",
        "    # Loop through data loader data batches\n",
        "    for batch, (X, y) in enumerate(dataloader):\n",
        "        # Send data to target device\n",
        "        X, y = X.to(device), y.to(device)\n",
        "\n",
        "        if mixup_fn is not None:\n",
        "          X, y = mixup_fn(X, y)\n",
        "\n",
        "        # 1. Forward pass\n",
        "        y_pred = model(X)\n",
        "\n",
        "        # 2. Calculate  and accumulate loss\n",
        "        loss = loss_fn(y_pred, y)\n",
        "        train_loss += loss.item()\n",
        "\n",
        "        # 3. Optimizer zero grad\n",
        "        optimizer.zero_grad()\n",
        "\n",
        "        # 4. Loss backward\n",
        "        loss.backward()\n",
        "\n",
        "        # 5. Optimizer step\n",
        "        optimizer.step()\n",
        "\n",
        "        if mixup_fn is None:\n",
        "          # Calculate and accumulate accuracy metric across all batches\n",
        "          y_pred_class = torch.argmax(torch.softmax(y_pred, dim=1), dim=1)\n",
        "          train_acc += (y_pred_class == y).sum().item()/len(y_pred)\n",
        "\n",
        "    # Adjust metrics to get average loss and accuracy per batch\n",
        "    train_loss = train_loss / len(dataloader)\n",
        "    train_acc = train_acc / len(dataloader)\n",
        "    return train_loss, train_acc\n",
        "\n",
        "def test_step(model: scripted_model,\n",
        "              dataloader: torch.utils.data.DataLoader,\n",
        "              loss_fn: torch.nn.Module,\n",
        "              device: torch.device) -> Tuple[float, float]:\n",
        "\n",
        "    # Put model in eval mode\n",
        "    model.eval()\n",
        "\n",
        "    # Setup test loss and test accuracy values\n",
        "    test_loss, test_acc = 0, 0\n",
        "\n",
        "    # Turn on inference context manager\n",
        "    with torch.inference_mode():\n",
        "        # Loop through DataLoader batches\n",
        "        for batch, (X, y) in enumerate(dataloader):\n",
        "            # Send data to target device\n",
        "            X, y = X.to(device), y.to(device)\n",
        "\n",
        "            # 1. Forward pass\n",
        "            test_pred_logits = model(X)\n",
        "\n",
        "            # 2. Calculate and accumulate loss\n",
        "            loss = loss_fn(test_pred_logits, y)\n",
        "            test_loss += loss.item()\n",
        "\n",
        "            # Calculate and accumulate accuracy\n",
        "            test_pred_labels = test_pred_logits.argmax(dim=1)\n",
        "            test_acc += ((test_pred_labels == y).sum().item()/len(test_pred_labels))\n",
        "\n",
        "    # Adjust metrics to get average loss and accuracy per batch\n",
        "    test_loss = test_loss / len(dataloader)\n",
        "    test_acc = test_acc / len(dataloader)\n",
        "    return test_loss, test_acc\n",
        "\n",
        "def train(model: scripted_model,\n",
        "          train_dataloader: torch.utils.data.DataLoader,\n",
        "          test_dataloader: torch.utils.data.DataLoader,\n",
        "          optimizer: torch.optim.Optimizer,\n",
        "          loss_fn: torch.nn.Module,\n",
        "          epochs: int,\n",
        "          device: torch.device) -> Dict[str, List]:\n",
        "\n",
        "\n",
        "    # Create empty results dictionary\n",
        "    results = {\"train_loss\": [],\n",
        "               \"train_acc\": [],\n",
        "               \"test_loss\": [],\n",
        "               \"test_acc\": []\n",
        "    }\n",
        "\n",
        "    # Make sure model on target device\n",
        "    model.to(device)\n",
        "\n",
        "    # Loop through training and testing steps for a number of epochs\n",
        "    for epoch in tqdm(range(epochs)):\n",
        "        train_loss, train_acc = train_step(model=scripted_model,\n",
        "                                          dataloader=train_dataloader,\n",
        "                                          loss_fn=loss_fn,\n",
        "                                          optimizer=optimizer,\n",
        "                                          device=device)\n",
        "        test_loss, test_acc = test_step(model=scripted_model,\n",
        "          dataloader=test_dataloader,\n",
        "          loss_fn=loss_fn,\n",
        "          device=device)\n",
        "\n",
        "        # Print out what's happening\n",
        "        print(\n",
        "          f\"Epoch: {epoch+1} | \"\n",
        "          f\"train_loss: {train_loss:.4f} | \"\n",
        "          f\"train_acc: {train_acc:.4f} | \"\n",
        "          f\"test_loss: {test_loss:.4f} | \"\n",
        "          f\"test_acc: {test_acc:.4f}\"\n",
        "        )\n",
        "\n",
        "        # Update results dictionary\n",
        "        results[\"train_loss\"].append(train_loss)\n",
        "        results[\"train_acc\"].append(train_acc)\n",
        "        results[\"test_loss\"].append(test_loss)\n",
        "        results[\"test_acc\"].append(test_acc)\n",
        "\n",
        "    # Return the filled results at the end of the epochs\n",
        "    return results"
      ]
    },
    {
      "cell_type": "code",
      "execution_count": 63,
      "metadata": {
        "id": "D2NSalES3KLU"
      },
      "outputs": [
        {
          "data": {
            "application/vnd.jupyter.widget-view+json": {
              "model_id": "d8917de872f2452690146b3c6b36069c",
              "version_major": 2,
              "version_minor": 0
            },
            "text/plain": [
              "  0%|          | 0/5 [00:00<?, ?it/s]"
            ]
          },
          "metadata": {},
          "output_type": "display_data"
        },
        {
          "name": "stdout",
          "output_type": "stream",
          "text": [
            "Epoch: 1 | train_loss: 2.7593 | train_acc: 0.4379 | test_loss: 1.4081 | test_acc: 0.6706\n",
            "Epoch: 2 | train_loss: 1.1896 | train_acc: 0.7189 | test_loss: 1.1364 | test_acc: 0.7222\n",
            "Epoch: 3 | train_loss: 0.7391 | train_acc: 0.8204 | test_loss: 1.0773 | test_acc: 0.7339\n",
            "Epoch: 4 | train_loss: 0.4749 | train_acc: 0.8835 | test_loss: 1.0777 | test_acc: 0.7382\n",
            "Epoch: 5 | train_loss: 0.3039 | train_acc: 0.9274 | test_loss: 1.0913 | test_acc: 0.7336\n",
            "[INFO] Total training time: 1002.770 seconds\n",
            "Device used: cuda\n"
          ]
        }
      ],
      "source": [
        "# Set the random seeds\n",
        "torch.manual_seed(42)\n",
        "torch.cuda.manual_seed(42)\n",
        "\n",
        "# Start the timer\n",
        "from timeit import default_timer as timer\n",
        "start_time = timer()\n",
        "\n",
        "# Setup training and save the results\n",
        "results = train(model=scripted_model,\n",
        "                       train_dataloader=train_loader,\n",
        "                       test_dataloader=test_loader,\n",
        "                       optimizer=optimizer,\n",
        "                       loss_fn=loss_fn,\n",
        "                       epochs=5,\n",
        "                       device=device)\n",
        "\n",
        "# End the timer and print out how long it took\n",
        "end_time = timer()\n",
        "print(f\"[INFO] Total training time: {end_time-start_time:.3f} seconds\")\n",
        "print(f\"Device used: {device}\")"
      ]
    },
    {
      "cell_type": "code",
      "execution_count": 64,
      "metadata": {
        "id": "muoSqSpG8Vh2"
      },
      "outputs": [],
      "source": [
        "import matplotlib.pyplot as plt\n",
        "# Plot loss curves of a model\n",
        "def plot_loss_curves(results):\n",
        "\n",
        "    loss = results[\"train_loss\"]\n",
        "    test_loss = results[\"test_loss\"]\n",
        "\n",
        "    accuracy = results[\"train_acc\"]\n",
        "    test_accuracy = results[\"test_acc\"]\n",
        "\n",
        "    epochs = range(len(results[\"train_loss\"]))\n",
        "\n",
        "    plt.figure(figsize=(15, 7))\n",
        "\n",
        "    # Plot loss\n",
        "    plt.subplot(1, 2, 1)\n",
        "    plt.plot(epochs, loss, label=\"train_loss\")\n",
        "    plt.plot(epochs, test_loss, label=\"test_loss\")\n",
        "    plt.title(\"Loss\")\n",
        "    plt.xlabel(\"Epochs\")\n",
        "    plt.legend()\n",
        "\n",
        "    # Plot accuracy\n",
        "    plt.subplot(1, 2, 2)\n",
        "    plt.plot(epochs, accuracy, label=\"train_accuracy\")\n",
        "    plt.plot(epochs, test_accuracy, label=\"test_accuracy\")\n",
        "    plt.title(\"Accuracy\")\n",
        "    plt.xlabel(\"Epochs\")\n",
        "    plt.legend()"
      ]
    },
    {
      "cell_type": "code",
      "execution_count": 65,
      "metadata": {
        "id": "s8P8grbU8Vh2"
      },
      "outputs": [
        {
          "data": {
            "image/png": "[encoded data removed]",
            "text/plain": [
              "<Figure size 1500x700 with 2 Axes>"
            ]
          },
          "metadata": {},
          "output_type": "display_data"
        }
      ],
      "source": [
        "plot_loss_curves(results)"
      ]
    },
    {
      "cell_type": "markdown",
      "metadata": {
        "id": "rAN7g79G8Vh9"
      },
      "source": [
        "#ONNX"
      ]
    },
    {
      "cell_type": "code",
      "execution_count": 66,
      "metadata": {
        "id": "tV-d4S8D8Vh9"
      },
      "outputs": [
        {
          "name": "stdout",
          "output_type": "stream",
          "text": [
            "Requirement already satisfied: onnx in /system/conda/miniconda3/envs/cloudspace/lib/python3.10/site-packages (1.17.0)\n",
            "Requirement already satisfied: numpy>=1.20 in /system/conda/miniconda3/envs/cloudspace/lib/python3.10/site-packages (from onnx) (1.26.4)\n",
            "Requirement already satisfied: protobuf>=3.20.2 in /system/conda/miniconda3/envs/cloudspace/lib/python3.10/site-packages (from onnx) (4.23.4)\n"
          ]
        }
      ],
      "source": [
        "!pip install onnx"
      ]
    },
    {
      "cell_type": "code",
      "execution_count": 67,
      "metadata": {
        "id": "Dv8vaPbt8Vh9"
      },
      "outputs": [
        {
          "name": "stdout",
          "output_type": "stream",
          "text": [
            "Requirement already satisfied: onnxruntime-gpu in /system/conda/miniconda3/envs/cloudspace/lib/python3.10/site-packages (1.20.0)\n",
            "Requirement already satisfied: onnx in /system/conda/miniconda3/envs/cloudspace/lib/python3.10/site-packages (1.17.0)\n",
            "Requirement already satisfied: onnxconverter_common==1.8.1 in /system/conda/miniconda3/envs/cloudspace/lib/python3.10/site-packages (1.8.1)\n",
            "Requirement already satisfied: pillow in /system/conda/miniconda3/envs/cloudspace/lib/python3.10/site-packages (11.0.0)\n",
            "Requirement already satisfied: numpy in /system/conda/miniconda3/envs/cloudspace/lib/python3.10/site-packages (from onnxconverter_common==1.8.1) (1.26.4)\n",
            "Requirement already satisfied: protobuf in /system/conda/miniconda3/envs/cloudspace/lib/python3.10/site-packages (from onnxconverter_common==1.8.1) (4.23.4)\n",
            "Requirement already satisfied: coloredlogs in /system/conda/miniconda3/envs/cloudspace/lib/python3.10/site-packages (from onnxruntime-gpu) (15.0.1)\n",
            "Requirement already satisfied: flatbuffers in /system/conda/miniconda3/envs/cloudspace/lib/python3.10/site-packages (from onnxruntime-gpu) (24.3.25)\n",
            "Requirement already satisfied: packaging in /system/conda/miniconda3/envs/cloudspace/lib/python3.10/site-packages (from onnxruntime-gpu) (24.1)\n",
            "Requirement already satisfied: sympy in /system/conda/miniconda3/envs/cloudspace/lib/python3.10/site-packages (from onnxruntime-gpu) (1.13.3)\n",
            "Requirement already satisfied: humanfriendly>=9.1 in /system/conda/miniconda3/envs/cloudspace/lib/python3.10/site-packages (from coloredlogs->onnxruntime-gpu) (10.0)\n",
            "Requirement already satisfied: mpmath<1.4,>=1.1.0 in /system/conda/miniconda3/envs/cloudspace/lib/python3.10/site-packages (from sympy->onnxruntime-gpu) (1.3.0)\n"
          ]
        }
      ],
      "source": [
        "!pip install onnxruntime-gpu onnx onnxconverter_common==1.8.1 pillow"
      ]
    },
    {
      "cell_type": "code",
      "execution_count": 68,
      "metadata": {
        "id": "KkepJJ0C8Vh9"
      },
      "outputs": [],
      "source": [
        "x = torch.randn(1, 3, 224, 224, requires_grad=True).to(device)\n",
        "torch.onnx.export(model.cuda(),                                       # model being run\n",
        "                  x,                                           # model input (or a tuple for multiple inputs)\n",
        "                  \"vgg.onnx\",                            # where to save the model (can be a file or file-like object)\n",
        "                  export_params=True,                          # store the trained parameter weights inside the model file\n",
        "                  opset_version=10,                            # the ONNX version to export the model to\n",
        "                  do_constant_folding=True,                    # whether to execute constant folding for optimization\n",
        "                  input_names = ['input'],                     # the model's input names\n",
        "                  output_names = ['output'],                   # the model's output names\n",
        "                  dynamic_axes={'input' : {0 : 'batch_size'},  # variable length axes\n",
        "                                'output': {0 : 'batch_size'}})"
      ]
    }
  ],
  "metadata": {
    "accelerator": "GPU",
    "colab": {
      "collapsed_sections": [
        "jO8skGwXfoBt",
        "VYAU74yVsDsb"
      ],
      "gpuType": "T4",
      "provenance": []
    },
    "kernelspec": {
      "display_name": "Python 3",
      "name": "python3"
    },
    "language_info": {
      "name": "python"
    }
  },
  "nbformat": 4,
  "nbformat_minor": 0
}
